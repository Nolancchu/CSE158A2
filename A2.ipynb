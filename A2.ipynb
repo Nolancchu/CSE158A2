{
 "cells": [
  {
   "cell_type": "code",
   "execution_count": 2,
   "metadata": {},
   "outputs": [],
   "source": [
    "import pandas as pd\n",
    "import numpy as np\n",
    "import tensorflow as tf\n",
    "import keras\n",
    "import random\n",
    "import json\n",
    "import seaborn as sns\n",
    "import matplotlib.pyplot as plt\n",
    "import gzip\n",
    "from datetime import datetime\n",
    "import csv\n",
    "from textblob import TextBlob\n"
   ]
  },
  {
   "cell_type": "code",
   "execution_count": 3,
   "metadata": {},
   "outputs": [],
   "source": [
    "dc_df_raw = pd.read_csv('output.csv')\n",
    "meta_df_raw = pd.read_csv('meta.csv')"
   ]
  },
  {
   "cell_type": "code",
   "execution_count": 4,
   "metadata": {},
   "outputs": [
    {
     "data": {
      "text/html": [
       "<div>\n",
       "<style scoped>\n",
       "    .dataframe tbody tr th:only-of-type {\n",
       "        vertical-align: middle;\n",
       "    }\n",
       "\n",
       "    .dataframe tbody tr th {\n",
       "        vertical-align: top;\n",
       "    }\n",
       "\n",
       "    .dataframe thead th {\n",
       "        text-align: right;\n",
       "    }\n",
       "</style>\n",
       "<table border=\"1\" class=\"dataframe\">\n",
       "  <thead>\n",
       "    <tr style=\"text-align: right;\">\n",
       "      <th></th>\n",
       "      <th>user_id</th>\n",
       "      <th>name</th>\n",
       "      <th>time</th>\n",
       "      <th>rating</th>\n",
       "      <th>text</th>\n",
       "      <th>pics</th>\n",
       "      <th>resp</th>\n",
       "      <th>gmap_id</th>\n",
       "    </tr>\n",
       "  </thead>\n",
       "  <tbody>\n",
       "    <tr>\n",
       "      <th>0</th>\n",
       "      <td>107074390665313624214</td>\n",
       "      <td>Monica Rivera</td>\n",
       "      <td>1558272538424</td>\n",
       "      <td>4.0</td>\n",
       "      <td>The venue is underground. Nice spot to grab a ...</td>\n",
       "      <td>[{'url': ['https://lh5.googleusercontent.com/p...</td>\n",
       "      <td>NaN</td>\n",
       "      <td>0x89b7b7851b06ef6b:0x5f356b1eb1da27</td>\n",
       "    </tr>\n",
       "    <tr>\n",
       "      <th>1</th>\n",
       "      <td>104256407771930872120</td>\n",
       "      <td>Petre Ene</td>\n",
       "      <td>1551027526726</td>\n",
       "      <td>4.0</td>\n",
       "      <td>the food is really good, I had a great experie...</td>\n",
       "      <td>[{'url': ['https://lh5.googleusercontent.com/p...</td>\n",
       "      <td>NaN</td>\n",
       "      <td>0x89b7b7851b06ef6b:0x5f356b1eb1da27</td>\n",
       "    </tr>\n",
       "    <tr>\n",
       "      <th>2</th>\n",
       "      <td>114405225879020100938</td>\n",
       "      <td>Jacqui London</td>\n",
       "      <td>1566209658391</td>\n",
       "      <td>5.0</td>\n",
       "      <td>This yummy and inexpensive canteen in the bowe...</td>\n",
       "      <td>NaN</td>\n",
       "      <td>NaN</td>\n",
       "      <td>0x89b7b7851b06ef6b:0x5f356b1eb1da27</td>\n",
       "    </tr>\n",
       "    <tr>\n",
       "      <th>3</th>\n",
       "      <td>107718711786444128636</td>\n",
       "      <td>George W Jones 111</td>\n",
       "      <td>1575038843630</td>\n",
       "      <td>1.0</td>\n",
       "      <td>If it was possible to give less than 1 star I ...</td>\n",
       "      <td>NaN</td>\n",
       "      <td>NaN</td>\n",
       "      <td>0x89b7b7851b06ef6b:0x5f356b1eb1da27</td>\n",
       "    </tr>\n",
       "    <tr>\n",
       "      <th>4</th>\n",
       "      <td>115862049965497934152</td>\n",
       "      <td>Guillaume Lieb</td>\n",
       "      <td>1502129103994</td>\n",
       "      <td>4.0</td>\n",
       "      <td>Chocolates chips scones are delicious ! 👌</td>\n",
       "      <td>[{'url': ['https://lh5.googleusercontent.com/p...</td>\n",
       "      <td>NaN</td>\n",
       "      <td>0x89b7b7851b06ef6b:0x5f356b1eb1da27</td>\n",
       "    </tr>\n",
       "  </tbody>\n",
       "</table>\n",
       "</div>"
      ],
      "text/plain": [
       "                 user_id                name           time  rating  \\\n",
       "0  107074390665313624214       Monica Rivera  1558272538424     4.0   \n",
       "1  104256407771930872120           Petre Ene  1551027526726     4.0   \n",
       "2  114405225879020100938       Jacqui London  1566209658391     5.0   \n",
       "3  107718711786444128636  George W Jones 111  1575038843630     1.0   \n",
       "4  115862049965497934152      Guillaume Lieb  1502129103994     4.0   \n",
       "\n",
       "                                                text  \\\n",
       "0  The venue is underground. Nice spot to grab a ...   \n",
       "1  the food is really good, I had a great experie...   \n",
       "2  This yummy and inexpensive canteen in the bowe...   \n",
       "3  If it was possible to give less than 1 star I ...   \n",
       "4          Chocolates chips scones are delicious ! 👌   \n",
       "\n",
       "                                                pics resp  \\\n",
       "0  [{'url': ['https://lh5.googleusercontent.com/p...  NaN   \n",
       "1  [{'url': ['https://lh5.googleusercontent.com/p...  NaN   \n",
       "2                                                NaN  NaN   \n",
       "3                                                NaN  NaN   \n",
       "4  [{'url': ['https://lh5.googleusercontent.com/p...  NaN   \n",
       "\n",
       "                               gmap_id  \n",
       "0  0x89b7b7851b06ef6b:0x5f356b1eb1da27  \n",
       "1  0x89b7b7851b06ef6b:0x5f356b1eb1da27  \n",
       "2  0x89b7b7851b06ef6b:0x5f356b1eb1da27  \n",
       "3  0x89b7b7851b06ef6b:0x5f356b1eb1da27  \n",
       "4  0x89b7b7851b06ef6b:0x5f356b1eb1da27  "
      ]
     },
     "execution_count": 4,
     "metadata": {},
     "output_type": "execute_result"
    }
   ],
   "source": [
    "dc_df_raw.head(5)"
   ]
  },
  {
   "cell_type": "code",
   "execution_count": 5,
   "metadata": {},
   "outputs": [
    {
     "data": {
      "text/html": [
       "<div>\n",
       "<style scoped>\n",
       "    .dataframe tbody tr th:only-of-type {\n",
       "        vertical-align: middle;\n",
       "    }\n",
       "\n",
       "    .dataframe tbody tr th {\n",
       "        vertical-align: top;\n",
       "    }\n",
       "\n",
       "    .dataframe thead th {\n",
       "        text-align: right;\n",
       "    }\n",
       "</style>\n",
       "<table border=\"1\" class=\"dataframe\">\n",
       "  <thead>\n",
       "    <tr style=\"text-align: right;\">\n",
       "      <th></th>\n",
       "      <th>name</th>\n",
       "      <th>address</th>\n",
       "      <th>gmap_id</th>\n",
       "      <th>description</th>\n",
       "      <th>latitude</th>\n",
       "      <th>longitude</th>\n",
       "      <th>category</th>\n",
       "      <th>avg_rating</th>\n",
       "      <th>num_of_reviews</th>\n",
       "      <th>price</th>\n",
       "      <th>hours</th>\n",
       "      <th>MISC</th>\n",
       "      <th>state</th>\n",
       "      <th>relative_results</th>\n",
       "      <th>url</th>\n",
       "    </tr>\n",
       "  </thead>\n",
       "  <tbody>\n",
       "    <tr>\n",
       "      <th>0</th>\n",
       "      <td>Cascade Café</td>\n",
       "      <td>Cascade Café, 599 Constitution Ave. NW, Washin...</td>\n",
       "      <td>0x89b7b7851b06ef6b:0x5f356b1eb1da27</td>\n",
       "      <td>Cafeteria-style dining at the National Gallery...</td>\n",
       "      <td>38.892077</td>\n",
       "      <td>-77.019908</td>\n",
       "      <td>['American restaurant']</td>\n",
       "      <td>2.6</td>\n",
       "      <td>28</td>\n",
       "      <td>NaN</td>\n",
       "      <td>[['Thursday', '11AM–3PM'], ['Friday', '11AM–3P...</td>\n",
       "      <td>{'Service options': ['Takeout', 'Dine-in', 'De...</td>\n",
       "      <td>Closed ⋅ Opens 11AM</td>\n",
       "      <td>['0x89b7b79ad5a69a43:0xce2fab5ae44aaf7f', '0x8...</td>\n",
       "      <td>https://www.google.com/maps/place//data=!4m2!3...</td>\n",
       "    </tr>\n",
       "    <tr>\n",
       "      <th>1</th>\n",
       "      <td>Joseph's Barbershop</td>\n",
       "      <td>Joseph's Barbershop, 2624B Georgia Ave NW, Was...</td>\n",
       "      <td>0x89b7b797548dfcfd:0xe3a4b60261c60313</td>\n",
       "      <td>NaN</td>\n",
       "      <td>38.924913</td>\n",
       "      <td>-77.022886</td>\n",
       "      <td>['Barber shop']</td>\n",
       "      <td>4.3</td>\n",
       "      <td>8</td>\n",
       "      <td>NaN</td>\n",
       "      <td>[['Thursday', '10AM–7PM'], ['Friday', '10AM–7P...</td>\n",
       "      <td>NaN</td>\n",
       "      <td>Permanently closed</td>\n",
       "      <td>['0x89b7c81aec442c2f:0x2df3cce722072454', '0x8...</td>\n",
       "      <td>https://www.google.com/maps/place//data=!4m2!3...</td>\n",
       "    </tr>\n",
       "    <tr>\n",
       "      <th>2</th>\n",
       "      <td>Valero</td>\n",
       "      <td>Valero, 1301 Bladensburg Rd NE, Washington, DC...</td>\n",
       "      <td>0x89b7b86fa9c15391:0x895562701e8dee87</td>\n",
       "      <td>NaN</td>\n",
       "      <td>38.907500</td>\n",
       "      <td>-76.978347</td>\n",
       "      <td>['Gas station']</td>\n",
       "      <td>3.7</td>\n",
       "      <td>27</td>\n",
       "      <td>NaN</td>\n",
       "      <td>[['Wednesday', 'Open 24 hours'], ['Thursday', ...</td>\n",
       "      <td>NaN</td>\n",
       "      <td>Open 24 hours</td>\n",
       "      <td>['0x89b7b86edb3e8003:0xc1dde6954521707f', '0x8...</td>\n",
       "      <td>https://www.google.com/maps/place//data=!4m2!3...</td>\n",
       "    </tr>\n",
       "  </tbody>\n",
       "</table>\n",
       "</div>"
      ],
      "text/plain": [
       "                  name                                            address  \\\n",
       "0         Cascade Café  Cascade Café, 599 Constitution Ave. NW, Washin...   \n",
       "1  Joseph's Barbershop  Joseph's Barbershop, 2624B Georgia Ave NW, Was...   \n",
       "2               Valero  Valero, 1301 Bladensburg Rd NE, Washington, DC...   \n",
       "\n",
       "                                 gmap_id  \\\n",
       "0    0x89b7b7851b06ef6b:0x5f356b1eb1da27   \n",
       "1  0x89b7b797548dfcfd:0xe3a4b60261c60313   \n",
       "2  0x89b7b86fa9c15391:0x895562701e8dee87   \n",
       "\n",
       "                                         description   latitude  longitude  \\\n",
       "0  Cafeteria-style dining at the National Gallery...  38.892077 -77.019908   \n",
       "1                                                NaN  38.924913 -77.022886   \n",
       "2                                                NaN  38.907500 -76.978347   \n",
       "\n",
       "                  category  avg_rating  num_of_reviews price  \\\n",
       "0  ['American restaurant']         2.6              28   NaN   \n",
       "1          ['Barber shop']         4.3               8   NaN   \n",
       "2          ['Gas station']         3.7              27   NaN   \n",
       "\n",
       "                                               hours  \\\n",
       "0  [['Thursday', '11AM–3PM'], ['Friday', '11AM–3P...   \n",
       "1  [['Thursday', '10AM–7PM'], ['Friday', '10AM–7P...   \n",
       "2  [['Wednesday', 'Open 24 hours'], ['Thursday', ...   \n",
       "\n",
       "                                                MISC                state  \\\n",
       "0  {'Service options': ['Takeout', 'Dine-in', 'De...  Closed ⋅ Opens 11AM   \n",
       "1                                                NaN   Permanently closed   \n",
       "2                                                NaN        Open 24 hours   \n",
       "\n",
       "                                    relative_results  \\\n",
       "0  ['0x89b7b79ad5a69a43:0xce2fab5ae44aaf7f', '0x8...   \n",
       "1  ['0x89b7c81aec442c2f:0x2df3cce722072454', '0x8...   \n",
       "2  ['0x89b7b86edb3e8003:0xc1dde6954521707f', '0x8...   \n",
       "\n",
       "                                                 url  \n",
       "0  https://www.google.com/maps/place//data=!4m2!3...  \n",
       "1  https://www.google.com/maps/place//data=!4m2!3...  \n",
       "2  https://www.google.com/maps/place//data=!4m2!3...  "
      ]
     },
     "execution_count": 5,
     "metadata": {},
     "output_type": "execute_result"
    }
   ],
   "source": [
    "meta_df_raw.head(3)"
   ]
  },
  {
   "cell_type": "code",
   "execution_count": 6,
   "metadata": {},
   "outputs": [],
   "source": [
    "dc_df = dc_df_raw.drop(columns = ['name', 'pics', 'resp'])\n",
    "meta_df = meta_df_raw.drop(columns=['description', 'MISC', 'state', 'relative_results', 'url', 'price', 'latitude', 'longitude'])"
   ]
  },
  {
   "cell_type": "code",
   "execution_count": 7,
   "metadata": {},
   "outputs": [
    {
     "data": {
      "text/html": [
       "<div>\n",
       "<style scoped>\n",
       "    .dataframe tbody tr th:only-of-type {\n",
       "        vertical-align: middle;\n",
       "    }\n",
       "\n",
       "    .dataframe tbody tr th {\n",
       "        vertical-align: top;\n",
       "    }\n",
       "\n",
       "    .dataframe thead th {\n",
       "        text-align: right;\n",
       "    }\n",
       "</style>\n",
       "<table border=\"1\" class=\"dataframe\">\n",
       "  <thead>\n",
       "    <tr style=\"text-align: right;\">\n",
       "      <th></th>\n",
       "      <th>user_id</th>\n",
       "      <th>gmap_id</th>\n",
       "      <th>time</th>\n",
       "      <th>unix_time</th>\n",
       "      <th>rating</th>\n",
       "      <th>text</th>\n",
       "      <th>sentiment</th>\n",
       "      <th>subjectivity</th>\n",
       "      <th>name</th>\n",
       "      <th>avg_rating</th>\n",
       "      <th>num_of_reviews</th>\n",
       "      <th>address</th>\n",
       "      <th>category</th>\n",
       "      <th>hours</th>\n",
       "    </tr>\n",
       "  </thead>\n",
       "  <tbody>\n",
       "    <tr>\n",
       "      <th>0</th>\n",
       "      <td>107074390665313624214</td>\n",
       "      <td>0x89b7b7851b06ef6b:0x5f356b1eb1da27</td>\n",
       "      <td>2019-05-19 06:28:58</td>\n",
       "      <td>1558272538424</td>\n",
       "      <td>4.0</td>\n",
       "      <td>The venue is underground. Nice spot to grab a ...</td>\n",
       "      <td>0.333333</td>\n",
       "      <td>0.778571</td>\n",
       "      <td>Cascade Café</td>\n",
       "      <td>2.6</td>\n",
       "      <td>28</td>\n",
       "      <td>Cascade Café, 599 Constitution Ave. NW, Washin...</td>\n",
       "      <td>['American restaurant']</td>\n",
       "      <td>[['Thursday', '11AM–3PM'], ['Friday', '11AM–3P...</td>\n",
       "    </tr>\n",
       "    <tr>\n",
       "      <th>2</th>\n",
       "      <td>104256407771930872120</td>\n",
       "      <td>0x89b7b7851b06ef6b:0x5f356b1eb1da27</td>\n",
       "      <td>2019-02-24 08:58:46</td>\n",
       "      <td>1551027526726</td>\n",
       "      <td>4.0</td>\n",
       "      <td>the food is really good, I had a great experie...</td>\n",
       "      <td>0.500000</td>\n",
       "      <td>0.483333</td>\n",
       "      <td>Cascade Café</td>\n",
       "      <td>2.6</td>\n",
       "      <td>28</td>\n",
       "      <td>Cascade Café, 599 Constitution Ave. NW, Washin...</td>\n",
       "      <td>['American restaurant']</td>\n",
       "      <td>[['Thursday', '11AM–3PM'], ['Friday', '11AM–3P...</td>\n",
       "    </tr>\n",
       "    <tr>\n",
       "      <th>4</th>\n",
       "      <td>114405225879020100938</td>\n",
       "      <td>0x89b7b7851b06ef6b:0x5f356b1eb1da27</td>\n",
       "      <td>2019-08-19 03:14:18</td>\n",
       "      <td>1566209658391</td>\n",
       "      <td>5.0</td>\n",
       "      <td>This yummy and inexpensive canteen in the bowe...</td>\n",
       "      <td>0.488333</td>\n",
       "      <td>0.743333</td>\n",
       "      <td>Cascade Café</td>\n",
       "      <td>2.6</td>\n",
       "      <td>28</td>\n",
       "      <td>Cascade Café, 599 Constitution Ave. NW, Washin...</td>\n",
       "      <td>['American restaurant']</td>\n",
       "      <td>[['Thursday', '11AM–3PM'], ['Friday', '11AM–3P...</td>\n",
       "    </tr>\n",
       "  </tbody>\n",
       "</table>\n",
       "</div>"
      ],
      "text/plain": [
       "                 user_id                              gmap_id  \\\n",
       "0  107074390665313624214  0x89b7b7851b06ef6b:0x5f356b1eb1da27   \n",
       "2  104256407771930872120  0x89b7b7851b06ef6b:0x5f356b1eb1da27   \n",
       "4  114405225879020100938  0x89b7b7851b06ef6b:0x5f356b1eb1da27   \n",
       "\n",
       "                  time      unix_time  rating  \\\n",
       "0  2019-05-19 06:28:58  1558272538424     4.0   \n",
       "2  2019-02-24 08:58:46  1551027526726     4.0   \n",
       "4  2019-08-19 03:14:18  1566209658391     5.0   \n",
       "\n",
       "                                                text  sentiment  subjectivity  \\\n",
       "0  The venue is underground. Nice spot to grab a ...   0.333333      0.778571   \n",
       "2  the food is really good, I had a great experie...   0.500000      0.483333   \n",
       "4  This yummy and inexpensive canteen in the bowe...   0.488333      0.743333   \n",
       "\n",
       "           name  avg_rating  num_of_reviews  \\\n",
       "0  Cascade Café         2.6              28   \n",
       "2  Cascade Café         2.6              28   \n",
       "4  Cascade Café         2.6              28   \n",
       "\n",
       "                                             address                 category  \\\n",
       "0  Cascade Café, 599 Constitution Ave. NW, Washin...  ['American restaurant']   \n",
       "2  Cascade Café, 599 Constitution Ave. NW, Washin...  ['American restaurant']   \n",
       "4  Cascade Café, 599 Constitution Ave. NW, Washin...  ['American restaurant']   \n",
       "\n",
       "                                               hours  \n",
       "0  [['Thursday', '11AM–3PM'], ['Friday', '11AM–3P...  \n",
       "2  [['Thursday', '11AM–3PM'], ['Friday', '11AM–3P...  \n",
       "4  [['Thursday', '11AM–3PM'], ['Friday', '11AM–3P...  "
      ]
     },
     "execution_count": 7,
     "metadata": {},
     "output_type": "execute_result"
    }
   ],
   "source": [
    "# mergining and adding sentimentality \n",
    "dc_full_df = dc_df.merge(meta_df, on='gmap_id').drop_duplicates()\n",
    "dc_full_df['unix_time'] = dc_full_df['time']\n",
    "dc_full_df['time'] = dc_full_df['unix_time'].apply(lambda x: datetime.fromtimestamp(x/1000).strftime('%Y-%m-%d %H:%M:%S'))\n",
    "dc_full_df['sentiment'] = dc_full_df['text'].apply(lambda x: TextBlob(str(x)).sentiment.polarity)\n",
    "dc_full_df['subjectivity'] = dc_full_df['text'].apply(lambda x: TextBlob(str(x)).sentiment.subjectivity)\n",
    "dc_full_df = dc_full_df[['user_id',  'gmap_id', 'time', 'unix_time', 'rating', 'text', 'sentiment', 'subjectivity', 'name', 'avg_rating', 'num_of_reviews', 'address', 'category', 'hours']]\n",
    "dc_full_df.head(3)"
   ]
  },
  {
   "cell_type": "code",
   "execution_count": 8,
   "metadata": {},
   "outputs": [
    {
     "data": {
      "image/png": "[encoded data removed]",
      "text/plain": [
       "<Figure size 640x480 with 1 Axes>"
      ]
     },
     "metadata": {},
     "output_type": "display_data"
    }
   ],
   "source": [
    "# rating graph\n",
    "\n",
    "mean = dc_full_df['rating'].mean()\n",
    "median = dc_full_df['rating'].median()\n",
    "std_dev = dc_full_df['rating'].std()\n",
    "\n",
    "rating_dist = sns.violinplot(x=dc_full_df['rating'],inner = 'box', color='darkslategrey')\n",
    "\n",
    "rating_dist.text(0.01, .85, f'Mean: {mean:.2f}', horizontalalignment='left', fontsize=9, fontfamily = 'serif', transform=rating_dist.transAxes)\n",
    "rating_dist.text(0.01, .9, f'Median: {median:.2f}', horizontalalignment='left', fontsize=9, fontfamily = 'serif', transform=rating_dist.transAxes)\n",
    "rating_dist.text(0.01, .95, f'Standard Deviation: {std_dev:.2f}', horizontalalignment='left', fontsize=9, fontfamily = 'serif', transform=rating_dist.transAxes)\n",
    "\n",
    "plt.title('Distribution of Rating', fontsize=16)\n",
    "plt.xlabel('Rating', fontsize=10)\n",
    "plt.ylabel('Occurence Density', fontsize=10)\n",
    "plt.show()"
   ]
  },
  {
   "cell_type": "markdown",
   "metadata": {},
   "source": []
  },
  {
   "cell_type": "code",
   "execution_count": 9,
   "metadata": {},
   "outputs": [
    {
     "data": {
      "text/plain": [
       "count    1.040912e+06\n",
       "mean     3.765855e-01\n",
       "std      3.423485e-01\n",
       "min     -1.000000e+00\n",
       "25%      1.562500e-01\n",
       "50%      3.847222e-01\n",
       "75%      6.000000e-01\n",
       "max      1.000000e+00\n",
       "Name: sentiment, dtype: float64"
      ]
     },
     "execution_count": 9,
     "metadata": {},
     "output_type": "execute_result"
    }
   ],
   "source": [
    "dc_only_nonNAN = dc_full_df[dc_full_df['text'].apply(lambda x: isinstance(x, str))]\n",
    "dc_full_df[dc_full_df['text'].apply(lambda x: isinstance(x, str))]['sentiment'].describe()\n"
   ]
  },
  {
   "cell_type": "code",
   "execution_count": 10,
   "metadata": {},
   "outputs": [
    {
     "data": {
      "text/plain": [
       "0.09510025823508615"
      ]
     },
     "execution_count": 10,
     "metadata": {},
     "output_type": "execute_result"
    }
   ],
   "source": [
    "dc_only_nonNAN[dc_only_nonNAN['sentiment'] < 0].shape[0]/dc_only_nonNAN.shape[0]"
   ]
  },
  {
   "cell_type": "code",
   "execution_count": 11,
   "metadata": {},
   "outputs": [
    {
     "data": {
      "image/png": "[encoded data removed]",
      "text/plain": [
       "<Figure size 640x480 with 1 Axes>"
      ]
     },
     "metadata": {},
     "output_type": "display_data"
    }
   ],
   "source": [
    "# sentiment graph\n",
    "\n",
    "mean = dc_only_nonNAN['sentiment'].mean()\n",
    "median = dc_only_nonNAN['sentiment'].median()\n",
    "std_dev = dc_only_nonNAN['sentiment'].std()\n",
    "\n",
    "sent_dist = sns.violinplot(x=dc_only_nonNAN['sentiment'], inner = 'box', color='darkslategrey')\n",
    "\n",
    "sent_dist.text(0.01, .85, f'Mean: {mean:.2f}', horizontalalignment='left', fontsize=9, fontfamily = 'serif', transform=sent_dist.transAxes)\n",
    "sent_dist.text(0.01, .9, f'Median: {median:.2f}', horizontalalignment='left', fontsize=9, fontfamily = 'serif', transform=sent_dist.transAxes)\n",
    "sent_dist.text(0.01, .95, f'Standard Deviation: {std_dev:.2f}', horizontalalignment='left', fontsize=9, fontfamily = 'serif', transform=sent_dist.transAxes)\n",
    "\n",
    "plt.title('Distribution of Sentiment', fontsize=16)\n",
    "plt.xlabel('Sentiment Value', fontsize=10)\n",
    "plt.ylabel('Occurence Density', fontsize=10)\n",
    "plt.show()"
   ]
  },
  {
   "cell_type": "code",
   "execution_count": 21,
   "metadata": {},
   "outputs": [
    {
     "name": "stdout",
     "output_type": "stream",
     "text": [
      "Mean Squared Error: 1.2753428474352253\n"
     ]
    }
   ],
   "source": [
    "# baseline model\n",
    "dc_full_df['prediction'] = np.nan\n",
    "rating_mean = dc_full_df['rating'].mean()\n",
    "dc_full_df['prediction'] = rating_mean\n",
    "mse = np.mean((dc_full_df['prediction'] - dc_full_df['rating']) ** 2)\n",
    "print(\"Mean Squared Error:\", mse)"
   ]
  },
  {
   "cell_type": "code",
   "execution_count": null,
   "metadata": {},
   "outputs": [],
   "source": []
  }
 ],
 "metadata": {
  "kernelspec": {
   "display_name": "Python 3.10.14 ('base')",
   "language": "python",
   "name": "python3"
  },
  "language_info": {
   "codemirror_mode": {
    "name": "ipython",
    "version": 3
   },
   "file_extension": ".py",
   "mimetype": "text/x-python",
   "name": "python",
   "nbconvert_exporter": "python",
   "pygments_lexer": "ipython3",
   "version": "3.10.15"
  },
  "orig_nbformat": 4,
  "vscode": {
   "interpreter": {
    "hash": "5f6941f5661d7583aa31320b272b34dc313e9698d65471d36e3b30b8fb4cab2b"
   }
  }
 },
 "nbformat": 4,
 "nbformat_minor": 2
}
